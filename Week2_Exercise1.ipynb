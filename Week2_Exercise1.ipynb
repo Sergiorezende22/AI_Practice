{
 "cells": [
  {
   "cell_type": "markdown",
   "metadata": {},
   "source": [
    "# Imports"
   ]
  },
  {
   "cell_type": "code",
   "execution_count": 13,
   "metadata": {},
   "outputs": [],
   "source": [
    "import random as r\n",
    "import numpy as np"
   ]
  },
  {
   "cell_type": "code",
   "execution_count": 63,
   "metadata": {},
   "outputs": [],
   "source": [
    "class Enviroment:\n",
    "    FLOOR_STATE = {\"clean\": 0, \"dirty\": 1}\n",
    "    \n",
    "    ## Construtor para iniciar o ambiente e sujar de maneira aleatória.\n",
    "    # size = Quantidade de quartos.\n",
    "    # dirtyRate = Porcentagem de chance de sujar cada quarto(valor vai de 0 a 100).\n",
    "    def __init__ (self, size: int, dirtyRate: int):\n",
    "        self.rooms = []\n",
    "        for i in range(0, size):\n",
    "            if r.randint(0, 100) < dirtyRate:\n",
    "                self.rooms.append(self.FLOOR_STATE[\"dirty\"])\n",
    "            else:\n",
    "                self.rooms.append(self.FLOOR_STATE[\"clean\"])\n",
    "            "
   ]
  },
  {
   "cell_type": "code",
   "execution_count": 66,
   "metadata": {},
   "outputs": [],
   "source": [
    "class Agent:\n",
    "    ACTIONS = {\"NoOp\": 0, \"clean\": 2, \"right\": 1, \"left\": -1}\n",
    "    \n",
    "    def __init__ (self, initialPosition: int):\n",
    "        self.position = initialPosition\n",
    "        \n",
    "    def action (self, env: Enviroment):\n",
    "        if env.rooms[self.position] == env.FLOOR_STATE[\"dirty\"]:\n",
    "            env.rooms[self.position] = env.FLOOR_STATE[\"clean\"]\n",
    "            \n",
    "            return self.ACTIONS[\"clean\"]\n",
    "        \n",
    "        # Primeiro para esquerda\n",
    "        if r.randint(0, 100) < 50:\n",
    "            # Checa se está na parede\n",
    "            if self.position == 0:\n",
    "                return self.ACTIONS[\"NoOp\"]\n",
    "            \n",
    "            self.position += ACTIONS[\"left\"]\n",
    "            return self.ACTIONS[\"left\"]\n",
    "        \n",
    "        # Agora para direita\n",
    "        else:\n",
    "            # Checa se está na parede\n",
    "            if self.position == len(env.rooms):\n",
    "                return self.ACTIONS[\"NoOp\"]\n",
    "            \n",
    "            self.position += ACTIONS[\"right\"]\n",
    "            return self.ACTIONS[\"right\"]"
   ]
  },
  {
   "cell_type": "code",
   "execution_count": null,
   "metadata": {},
   "outputs": [],
   "source": [
    "class Evaluator:\n",
    "    \n",
    "    def __init__ (self, env: Enviroment, agent: Agent):\n",
    "        self.env = env\n",
    "        self.agent = agent\n",
    "        \n",
    "    def evaluate (self):\n",
    "        \n"
   ]
  }
 ],
 "metadata": {
  "kernelspec": {
   "display_name": "Python 3",
   "language": "python",
   "name": "python3"
  },
  "language_info": {
   "codemirror_mode": {
    "name": "ipython",
    "version": 3
   },
   "file_extension": ".py",
   "mimetype": "text/x-python",
   "name": "python",
   "nbconvert_exporter": "python",
   "pygments_lexer": "ipython3",
   "version": "3.8.10"
  }
 },
 "nbformat": 4,
 "nbformat_minor": 4
}
