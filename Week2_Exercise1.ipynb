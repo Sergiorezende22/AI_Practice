{
 "cells": [
  {
   "cell_type": "markdown",
   "metadata": {
    "tags": []
   },
   "source": [
    "# Exercício 1 - Simulador e Agente Reativo Simples em Ambiente Parcialmente Observável"
   ]
  },
  {
   "cell_type": "markdown",
   "metadata": {
    "tags": []
   },
   "source": [
    "## Imports\n",
    "Para começar vamos importar algumas funções que vamos utilizar no código.\n"
   ]
  },
  {
   "cell_type": "code",
   "execution_count": 7,
   "metadata": {},
   "outputs": [],
   "source": [
    "import random as r"
   ]
  },
  {
   "cell_type": "markdown",
   "metadata": {},
   "source": [
    "## Classe: Enviroment\n",
    "Primeiro fiz uma classe que representa o ambiente que o agente estará inserido. Esta classe implementará as funções que são relacionadas as sujeiras do chão."
   ]
  },
  {
   "cell_type": "code",
   "execution_count": 25,
   "metadata": {},
   "outputs": [],
   "source": [
    "class Enviroment:\n",
    "    FLOOR_STATE = {\"clean\": 0, \"dirty\": 1}\n",
    "    \n",
    "    def __init__ (self, size: int):\n",
    "        self.rooms = [0] * size\n",
    "\n",
    "    def dirty_room(self, position: int):\n",
    "        self.rooms[position] = Enviroment.FLOOR_STATE[\"dirty\"]\n",
    "            \n",
    "    def clean_room(self, position: int):\n",
    "        self.rooms[position] = Enviroment.FLOOR_STATE[\"clean\"]\n",
    "                \n",
    "    def init_randomly(self, dirtyRate: int):\n",
    "        for i in range(len(self.rooms)):\n",
    "            if r.randint(0, 100) < dirtyRate:\n",
    "                self.dirty_room(i)\n",
    "            else:\n",
    "                self.clean_room(i)\n",
    "    \n",
    "    def init_rooms(self, rooms: list):\n",
    "        self.rooms = rooms.copy()\n",
    "\n",
    "    def rand_dirty_rooms (self, dirtyRate: int):\n",
    "        for i, room in enumerate(self.rooms):\n",
    "            if(room == Enviroment.FLOOR_STATE[\"clean\"] and r.randint(0, 100) < dirtyRate):\n",
    "                self.dirty_room(i)"
   ]
  },
  {
   "cell_type": "markdown",
   "metadata": {
    "tags": []
   },
   "source": [
    "## Classe: Agent\n",
    "A classe agent representará o agente e possui a função que determina como o mesmo irá se comportar dado o ambiente."
   ]
  },
  {
   "cell_type": "code",
   "execution_count": 64,
   "metadata": {},
   "outputs": [],
   "source": [
    "class Agent:\n",
    "    ACTIONS = {\"NoOp\": 0, \"clean\": 2, \"right\": 1, \"left\": -1}\n",
    "    \n",
    "    def __init__ (self):\n",
    "        self.position = None\n",
    "        \n",
    "    def initial_position(self, initial_position: int):\n",
    "        self.position = initial_position\n",
    "    \n",
    "    def action (self, env: Enviroment):\n",
    "        if env.rooms[self.position] == Enviroment.FLOOR_STATE[\"dirty\"]:\n",
    "            env.rooms[self.position] = Enviroment.FLOOR_STATE[\"clean\"]\n",
    "            \n",
    "            return Agent.ACTIONS[\"clean\"]\n",
    "        \n",
    "        temp = 1 if r.randint(0, 100) < 50 else -1\n",
    "\n",
    "        if (temp == Agent.ACTIONS[\"left\"] and self.position == 0) or (temp == Agent.ACTIONS[\"right\"] and self.position == len(env.rooms) - 1):\n",
    "            temp = Agent.ACTIONS[\"NoOp\"]\n",
    "            \n",
    "        self.position += temp\n",
    "            \n",
    "        return temp"
   ]
  },
  {
   "cell_type": "markdown",
   "metadata": {},
   "source": [
    "## Classe: Evaluator\n",
    "A classe evaluator vai representar a avaliação do agente e possui a função de pontuar e definir o tempo de avaliação que ocorre."
   ]
  },
  {
   "cell_type": "code",
   "execution_count": 70,
   "metadata": {},
   "outputs": [],
   "source": [
    "class Evaluator:\n",
    "    def __init__ (self, env: Enviroment, agent: Agent, steps: int, seed: int, dirtyRate: int):\n",
    "        self.env = env\n",
    "        self.agent = agent\n",
    "        self.steps = steps\n",
    "        self.seed = seed\n",
    "        self.dirtyRate = dirtyRate\n",
    "        self.agent_points = 0\n",
    "    \n",
    "    def execute (self):\n",
    "        self.agent_points = 0\n",
    "        for i in range(self.steps):\n",
    "            self.evaluate_agent(self.agent.action(self.env))\n",
    "            self.env.rand_dirty_rooms(self.dirtyRate)\n",
    "        \n",
    "        return self.agent_points\n",
    "        \n",
    "    def evaluate_agent (self, action: int):\n",
    "        if action == Agent.ACTIONS[\"clean\"]:\n",
    "            self.agent_points += 1"
   ]
  },
  {
   "cell_type": "code",
   "execution_count": 96,
   "metadata": {},
   "outputs": [
    {
     "name": "stdout",
     "output_type": "stream",
     "text": [
      "Agente com posição inicial 0: \n",
      "\tAmbiente inicial: [0, 0] | Pontuação: 569\n",
      "\tAmbiente inicial: [0, 1] | Pontuação: 568\n",
      "\tAmbiente inicial: [1, 0] | Pontuação: 598\n",
      "\tAmbiente inicial: [1, 1] | Pontuação: 590\n",
      "\n",
      "Agente com posição inicial 1: \n",
      "\tAmbiente inicial: [0, 0] | Pontuação: 602\n",
      "\tAmbiente inicial: [0, 1] | Pontuação: 594\n",
      "\tAmbiente inicial: [1, 0] | Pontuação: 582\n",
      "\tAmbiente inicial: [1, 1] | Pontuação: 581\n",
      "\n",
      "Média das pontuações: 585.5\n"
     ]
    }
   ],
   "source": [
    "env = Enviroment(2)\n",
    "agent = Agent()\n",
    "eval = Evaluator(env, agent, 1000, 123, 50)\n",
    "\n",
    "env_possibilities = [[0, 0], [0, 1], [1, 0], [1, 1]]\n",
    "agent_possibilities = [0, 1]\n",
    "result = []\n",
    "\n",
    "for agent_possibility in agent_possibilities:\n",
    "    print(f\"Agente com posição inicial {agent_possibility}: \")\n",
    "    for env_possibility in env_possibilities: \n",
    "        agent.initial_position(agent_possibility)\n",
    "        env.init_rooms(env_possibility)\n",
    "        result.append(eval.execute())\n",
    "        print(f\"\\tAmbiente inicial: {env_possibility} | Pontuação: {result[-1]}\")\n",
    "    print()\n",
    "print(f\"Média das pontuações: {sum(result)/len(result)}\")"
   ]
  }
 ],
 "metadata": {
  "kernelspec": {
   "display_name": "Python 3",
   "language": "python",
   "name": "python3"
  },
  "language_info": {
   "codemirror_mode": {
    "name": "ipython",
    "version": 3
   },
   "file_extension": ".py",
   "mimetype": "text/x-python",
   "name": "python",
   "nbconvert_exporter": "python",
   "pygments_lexer": "ipython3",
   "version": "3.8.10"
  }
 },
 "nbformat": 4,
 "nbformat_minor": 4
}
