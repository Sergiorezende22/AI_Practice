{
 "cells": [
  {
   "cell_type": "code",
   "execution_count": 1,
   "metadata": {},
   "outputs": [],
   "source": [
    "from collections import deque"
   ]
  },
  {
   "cell_type": "code",
   "execution_count": 2,
   "metadata": {},
   "outputs": [],
   "source": [
    "class Node:\n",
    "    def __init__(self, state, cost, move = \"move\", parent= None) :\n",
    "        self.parent = parent\n",
    "        self.state = state\n",
    "        self.move = move\n",
    "        self.cost = cost"
   ]
  },
  {
   "cell_type": "code",
   "execution_count": 7,
   "metadata": {},
   "outputs": [],
   "source": [
    "class Problem:\n",
    "    def __init__(self, size, initial_state, goal):\n",
    "        self.initial_state = initial_state\n",
    "        self.goal = goal\n",
    "        self.size = size\n",
    "    \n",
    "\n",
    "    def objective_test(self, state):\n",
    "        return state == self.goal\n",
    "\n",
    "\n",
    "    def get_x(self, index):\n",
    "        return index // self.size\n",
    "\n",
    "\n",
    "    def get_y(self, index):\n",
    "        return index - self.get_x(index) * self.size\n",
    "    \n",
    "\n",
    "    def get_coords(self, index):\n",
    "        return self.get_x(index), self.get_y(index)\n",
    "\n",
    "    def get_index(self, x, y):\n",
    "        return x * self.size + y\n",
    "\n",
    "    def actions(self, state):\n",
    "        moves = [\"up\", \"right\", \"left\", \"down\"]\n",
    "        index = state.index(0)\n",
    "        x, y = self.get_coords(index)\n",
    "\n",
    "        if x == 0:\n",
    "            moves.remove(\"left\")\n",
    "        elif x == self.size - 1:\n",
    "            moves.remove(\"right\")\n",
    "\n",
    "        if y == 0:\n",
    "            moves.remove(\"up\")\n",
    "        elif y == self.size - 1:\n",
    "            moves.remove(\"down\")\n",
    "\n",
    "        return moves\n",
    "\n",
    "\n",
    "    def move(self, state, action):\n",
    "        result = state.copy()\n",
    "        index = state.index(0)\n",
    "        x, y = self.get_coords(index)\n",
    "\n",
    "        if action == \"up\":\n",
    "            y -= 1\n",
    "        elif action == \"down\":\n",
    "            y += 1\n",
    "        elif action == \"left\":\n",
    "            x -= 1\n",
    "        elif action == \"right\":\n",
    "            x += 1\n",
    "\n",
    "        new_index = self.get_index(x, y)\n",
    "\n",
    "        result[index], result[new_index] = result[new_index], result[index]\n",
    "\n",
    "        return result\n",
    "\n",
    "    \n",
    "    def get_path(self, node):\n",
    "        moves = []\n",
    "\n",
    "        while node.parent:\n",
    "            moves.append(node.move)\n",
    "            node = node.parent\n",
    "\n",
    "        moves.reverse()\n",
    "        return \", \".join(moves)"
   ]
  },
  {
   "cell_type": "code",
   "execution_count": 4,
   "metadata": {},
   "outputs": [],
   "source": [
    "def bfs(problem:Problem):\n",
    "    maxdepth = 0\n",
    "    maxfrontier = 0\n",
    "    node = Node(problem.initial_state, 0)\n",
    "\n",
    "    if problem.objective_test(node.state):\n",
    "        return {\"node\": node, \"max_depth\": maxdepth, \"max_frontier\": maxfrontier, \"finalfrontier\": 0, \"scanned\": 0}\n",
    "\n",
    "    edge = deque()\n",
    "    edge.append(node)\n",
    "    explored = set()\n",
    "    \n",
    "    while edge:\n",
    "        node = edge.popleft()\n",
    "        explored.add(str(node.state))\n",
    "\n",
    "        for action in problem.actions(node.state):\n",
    "            newstate = problem.move(node.state, action)\n",
    "            son = Node(newstate, node.cost + 1, action, node)\n",
    "            if str(son.state) not in explored:\n",
    "                if problem.objective_test(son.state):\n",
    "                    return {\"node\": son, \"max_depth\": maxdepth, \"max_frontier\": maxfrontier, \"finalfrontier\": len(edge), \"scanned\": len(explored)}\n",
    "                    \n",
    "                edge.append(son)\n",
    "                explored.add(str(son.state))\n",
    "\n",
    "                if son.cost > maxdepth:\n",
    "                    maxdepth = son.cost\n",
    "\n",
    "\n",
    "        if len(edge) > maxfrontier: \n",
    "            maxfrontier = len(edge)\n",
    "        \n",
    "        \n",
    "    return {\"node\": None, \"max_depth\": maxdepth, \"max_frontier\": maxfrontier, \"finalfrontier\": len(edge), \"scanned\": len(explored)}\n"
   ]
  },
  {
   "cell_type": "code",
   "execution_count": 8,
   "metadata": {},
   "outputs": [
    {
     "name": "stdout",
     "output_type": "stream",
     "text": [
      "{'node': <__main__.Node object at 0x7f15d4ae24f0>, 'max_depth': 30, 'max_frontier': 24051, 'finalfrontier': 388, 'scanned': 181415}\n"
     ]
    }
   ],
   "source": [
    "problem = Problem(3, [0, 8, 7, 6, 5, 4, 3, 2, 1], [0, 1, 2, 3, 4, 5, 6, 7, 8])\n",
    "result = bfs(problem)\n",
    "\n",
    "print(result)"
   ]
  },
  {
   "cell_type": "code",
   "execution_count": 10,
   "metadata": {},
   "outputs": [
    {
     "name": "stdout",
     "output_type": "stream",
     "text": [
      "right, down, right, down, left, left, up, right, up, left, down, right, right, up, left, down, right, down, left, left, up, up, right, down, right, down, left, left, up, up\n",
      "[0, 1, 2, 3, 4, 5, 6, 7, 8]\n"
     ]
    }
   ],
   "source": [
    "print(problem.get_path(result['node']))\n",
    "[0]\n",
    "print(result['node'].state)"
   ]
  }
 ],
 "metadata": {
  "interpreter": {
   "hash": "31f2aee4e71d21fbe5cf8b01ff0e069b9275f58929596ceb00d14d90e3e16cd6"
  },
  "kernelspec": {
   "display_name": "Python 3.8.10 64-bit",
   "name": "python3"
  },
  "language_info": {
   "codemirror_mode": {
    "name": "ipython",
    "version": 3
   },
   "file_extension": ".py",
   "mimetype": "text/x-python",
   "name": "python",
   "nbconvert_exporter": "python",
   "pygments_lexer": "ipython3",
   "version": "3.8.10"
  }
 },
 "nbformat": 4,
 "nbformat_minor": 4
}
