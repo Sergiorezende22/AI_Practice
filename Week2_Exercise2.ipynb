{
 "cells": [
  {
   "cell_type": "code",
   "execution_count": 14,
   "metadata": {},
   "outputs": [],
   "source": [
    "import random as r"
   ]
  },
  {
   "cell_type": "code",
   "execution_count": 15,
   "metadata": {},
   "outputs": [],
   "source": [
    "class Enviroment:\n",
    "    FLOOR_STATE = {\"clean\": 0, \"dirty\": 1}\n",
    "    \n",
    "    def __init__ (self, size: int):\n",
    "        self.rooms = [0] * size\n",
    "\n",
    "    def dirty_room(self, position: int):\n",
    "        self.rooms[position] = Enviroment.FLOOR_STATE[\"dirty\"]\n",
    "            \n",
    "    def clean_room(self, position: int):\n",
    "        self.rooms[position] = Enviroment.FLOOR_STATE[\"clean\"]\n",
    "                \n",
    "    def init_randomly(self, dirtyRate: int):\n",
    "        for i in range(len(self.rooms)):\n",
    "            if r.randint(0, 100) < dirtyRate:\n",
    "                self.dirty_room(i)\n",
    "            else:\n",
    "                self.clean_room(i)\n",
    "    \n",
    "    def init_rooms(self, rooms: list):\n",
    "        self.rooms = rooms.copy()\n",
    "\n",
    "    def rand_dirty_rooms (self, dirtyRate: int):\n",
    "        for i, room in enumerate(self.rooms):\n",
    "            if(room == Enviroment.FLOOR_STATE[\"clean\"] and r.randint(0, 100) < dirtyRate):\n",
    "                self.dirty_room(i)"
   ]
  },
  {
   "cell_type": "code",
   "execution_count": 16,
   "metadata": {},
   "outputs": [],
   "source": [
    "class Agent:\n",
    "    ACTIONS = {\"NoOp\": 0, \"clean\": 2, \"right\": 1, \"left\": -1}\n",
    "    \n",
    "    def __init__ (self):\n",
    "        self.position = None\n",
    "        \n",
    "    def initial_position(self, initial_position: int):\n",
    "        self.position = initial_position\n",
    "    \n",
    "    def action (self, env: Enviroment):\n",
    "        if env.rooms[self.position] == Enviroment.FLOOR_STATE[\"dirty\"]:\n",
    "            env.rooms[self.position] = Enviroment.FLOOR_STATE[\"clean\"]\n",
    "            \n",
    "            return Agent.ACTIONS[\"clean\"]\n",
    "        \n",
    "        distance = 0\n",
    "        \n",
    "        for i in range(len(env.rooms)):\n",
    "            if env.rooms[i] == Enviroment.FLOOR_STATE[\"dirty\"]:\n",
    "                if abs(i - self.position) < abs(distance) or distance == 0:\n",
    "                    distance = i - self.position\n",
    "        \n",
    "        temp = 1 if distance > 0 else 0 if distance == 0 else -1\n",
    "            \n",
    "        self.position += temp\n",
    "            \n",
    "        return temp"
   ]
  },
  {
   "cell_type": "code",
   "execution_count": 17,
   "metadata": {},
   "outputs": [],
   "source": [
    "class Evaluator:\n",
    "    def __init__ (self, env: Enviroment, agent: Agent, steps: int, seed: int, dirtyRate: int):\n",
    "        self.env = env\n",
    "        self.agent = agent\n",
    "        self.steps = steps\n",
    "        self.seed = seed\n",
    "        self.dirtyRate = dirtyRate\n",
    "        self.agent_points = 0\n",
    "    \n",
    "    def execute (self):\n",
    "        self.agent_points = 0\n",
    "        for i in range(self.steps):\n",
    "            self.evaluate_agent(self.agent.action(self.env))\n",
    "            self.env.rand_dirty_rooms(self.dirtyRate)\n",
    "        \n",
    "        return self.agent_points\n",
    "        \n",
    "    def evaluate_agent (self, action: int):\n",
    "        if action == Agent.ACTIONS[\"clean\"]:\n",
    "            self.agent_points += 1\n",
    "        elif action == Agent.ACTIONS[\"right\"] or action == Agent.ACTIONS[\"left\"]:\n",
    "            self.agent_points -= 1"
   ]
  },
  {
   "cell_type": "code",
   "execution_count": 21,
   "metadata": {},
   "outputs": [
    {
     "name": "stdout",
     "output_type": "stream",
     "text": [
      "Agente com posição inicial 0: \n",
      "\tAmbiente inicial: [0, 0] | Pontuação: 227\n",
      "\tAmbiente inicial: [0, 1] | Pontuação: 235\n",
      "\tAmbiente inicial: [1, 0] | Pontuação: 222\n",
      "\tAmbiente inicial: [1, 1] | Pontuação: 244\n",
      "\n",
      "Agente com posição inicial 1: \n",
      "\tAmbiente inicial: [0, 0] | Pontuação: 227\n",
      "\tAmbiente inicial: [0, 1] | Pontuação: 221\n",
      "\tAmbiente inicial: [1, 0] | Pontuação: 215\n",
      "\tAmbiente inicial: [1, 1] | Pontuação: 249\n",
      "\n",
      "Média das pontuações: 230.0\n"
     ]
    }
   ],
   "source": [
    "env = Enviroment(2)\n",
    "agent = Agent()\n",
    "eval = Evaluator(env, agent, 1000, 123, 30)\n",
    "\n",
    "env_possibilities = [[0, 0], [0, 1], [1, 0], [1, 1]]\n",
    "agent_possibilities = [0, 1]\n",
    "result = []\n",
    "\n",
    "for agent_possibility in agent_possibilities:\n",
    "    print(f\"Agente com posição inicial {agent_possibility}: \")\n",
    "    for env_possibility in env_possibilities: \n",
    "        agent.initial_position(agent_possibility)\n",
    "        env.init_rooms(env_possibility)\n",
    "        result.append(eval.execute())\n",
    "        print(f\"\\tAmbiente inicial: {env_possibility} | Pontuação: {result[-1]}\")\n",
    "    print()\n",
    "print(f\"Média das pontuações: {sum(result)/len(result)}\")"
   ]
  }
 ],
 "metadata": {
  "kernelspec": {
   "display_name": "Python 3",
   "language": "python",
   "name": "python3"
  },
  "language_info": {
   "codemirror_mode": {
    "name": "ipython",
    "version": 3
   },
   "file_extension": ".py",
   "mimetype": "text/x-python",
   "name": "python",
   "nbconvert_exporter": "python",
   "pygments_lexer": "ipython3",
   "version": "3.8.10"
  }
 },
 "nbformat": 4,
 "nbformat_minor": 4
}
